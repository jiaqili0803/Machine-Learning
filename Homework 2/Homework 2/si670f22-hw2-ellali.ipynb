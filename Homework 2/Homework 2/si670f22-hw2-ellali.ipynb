{
 "cells": [
  {
   "cell_type": "markdown",
   "metadata": {
    "id": "OWTe9VS3_b11"
   },
   "source": [
    "## SI 670 Applied Machine Learning, Week 2:  Basic supervised learning concepts (Due Wednesday 09/14/2022 11:59pm)\n",
    "\n",
    "For this assignment, you will be practicing various machine learning operations in scikit-learn related to linear regression, polynomial feature expansion and underfitting/overfitting.\n",
    "\n",
    "* This homework is worth 100 points in total. Correct answers and code receive full credit, but partial credit will be awarded if you have the right idea even if your final answers aren't quite right.\n",
    "\n",
    "* Submit your completed notebook file to the Canvas site - **IMPORTANT**: <span style='color:red'>please name your submitted file `si670f22-hw2-youruniqname.ipynb`</span> \n",
    "\n",
    "* Any file submitted after the deadline will be marked as late. Please consult the syllabus regarding late submission policies. You can submit the homework as many time as you want, but only your latest submission will be graded.\n",
    "\n",
    "* As a reminder, the notebook code you submit must be your own work. Feel free to discuss general approaches to the homework with classmates. If you end up forming more of a team discussion on multiple questions, please include the names of the people you worked with at the top of your notebook file.\n",
    "\n"
   ]
  },
  {
   "cell_type": "code",
   "execution_count": 3,
   "metadata": {},
   "outputs": [],
   "source": [
    "# <span style='color:red'>red text</span> "
   ]
  },
  {
   "cell_type": "markdown",
   "metadata": {
    "id": "yJblUABQ6R07"
   },
   "source": [
    "### Question 1(40 points)\n",
    "\n",
    "Your goal for this question is to run a simple linear regression on the data, and investigate its performance. Note that this question has multiple parts. \n",
    "\n",
    "First you need to run the following block, which sets up the training and test datasets to be used for this question."
   ]
  },
  {
   "cell_type": "code",
   "execution_count": 1,
   "metadata": {
    "executionInfo": {
     "elapsed": 202,
     "status": "ok",
     "timestamp": 1662101250530,
     "user": {
      "displayName": "Sanzeed Anwar",
      "userId": "13718033999873552038"
     },
     "user_tz": 240
    },
    "id": "34JPtsx388kY"
   },
   "outputs": [],
   "source": [
    "import numpy as np\n",
    "\n",
    "# We fix the state of the random number generator here in order to maintain consistency in the results\n",
    "rs = np.random.RandomState(0)\n",
    "X_train = rs.uniform(size = (100, 1))\n",
    "y_train = 5 * X_train + 8\n",
    "X_test = rs.uniform(size = (20, 1))\n",
    "y_test = 7 * X_test + 1"
   ]
  },
  {
   "cell_type": "code",
   "execution_count": 42,
   "metadata": {},
   "outputs": [],
   "source": [
    "##### delete this\n",
    "\n",
    "# investigate performance\n",
    "# print('linear model coeff (w): {:.3f}'\n",
    "#      .format(linreg.coef_.reshape([1,])[0]))\n",
    "# print('linear model intercept (b): {:.3f}'\n",
    "#      .format(linreg.intercept_.reshape([1,])[0]))\n",
    "# print('R-squared score (training): {:.3f}'\n",
    "#      .format(linreg.score(X_train, y_train)))\n",
    "# print('R-squared score (test): {:.3f}'\n",
    "#      .format(linreg.score(X_test, y_test)))\n",
    "\n",
    "##### delete this"
   ]
  },
  {
   "cell_type": "markdown",
   "metadata": {
    "id": "iR2-Hzsd9NTR"
   },
   "source": [
    "Now, write a function that takes in training data as input, and fits a line to the data using a linear regression model. Your function should return the linear regression model."
   ]
  },
  {
   "cell_type": "code",
   "execution_count": 41,
   "metadata": {
    "id": "db_tG46Z-Xh9"
   },
   "outputs": [],
   "source": [
    "def fit_line(X_train, y_train):\n",
    "    from sklearn.linear_model import LinearRegression\n",
    "    \n",
    "    # fit a linear regression model to the input data, name it `linreg'\n",
    "    linreg = LinearRegression().fit(X_train, y_train)\n",
    "    \n",
    "    # Return the linear regression model you created\n",
    "    return linreg"
   ]
  },
  {
   "cell_type": "markdown",
   "metadata": {
    "id": "0m0TIFsE_5TO"
   },
   "source": [
    "Run the following block of code in order to (1) compute the the $R^2$ (coefficient of determination) regression score on both training and test datasets, and then (2) plot the training and test datasets in the same figure, marked by different colors (blue for training data, red for test data)."
   ]
  },
  {
   "cell_type": "code",
   "execution_count": 47,
   "metadata": {
    "id": "mFV1YnNvCBUz"
   },
   "outputs": [
    {
     "name": "stdout",
     "output_type": "stream",
     "text": [
      "R-squared score (training): 1.000\n",
      "R-squared score (test): -11.533\n"
     ]
    },
    {
     "data": {
      "text/plain": [
       "<matplotlib.collections.PathCollection at 0x133a3531820>"
      ]
     },
     "execution_count": 47,
     "metadata": {},
     "output_type": "execute_result"
    },
    {
     "data": {
      "image/png": "[encoded data removed]",
      "text/plain": [
       "<Figure size 432x288 with 1 Axes>"
      ]
     },
     "metadata": {
      "needs_background": "light"
     },
     "output_type": "display_data"
    }
   ],
   "source": [
    "# Fit a line to the dataset we generated at the beginning of this problem using your function\n",
    "linreg = fit_line(X_train, y_train)\n",
    "\n",
    "# Compute R^2 score of your model on training and test sets\n",
    "print('R-squared score (training): {:.3f}'\n",
    "     .format(linreg.score(X_train, y_train)))\n",
    "print('R-squared score (test): {:.3f}'\n",
    "     .format(linreg.score(X_test, y_test)))\n",
    "\n",
    "# Plot the training and test datasets in the same figure marked by different colors\n",
    "import matplotlib.pyplot as plt\n",
    "\n",
    "fig = plt.figure()\n",
    "plt.xlim(-0.5, 2)\n",
    "plt.ylim(0, 15)\n",
    "plt.scatter(X_train, y_train, c='blue', marker='o', s=50) # Blue points are from training dataset\n",
    "plt.scatter(X_test, y_test, c='red', marker='o', s=50) # Red points are from test dataset"
   ]
  },
  {
   "cell_type": "markdown",
   "metadata": {
    "id": "cDf3jPcaDFuS"
   },
   "source": [
    "What does the $R^2$ score of your model on the two datasets tell you about the performance of your model? Using the plot of the two datasets, why do you think we get these $R^2$ scores? Please provide your answer in the text cell below."
   ]
  },
  {
   "cell_type": "markdown",
   "metadata": {
    "id": "0VXwm17DDcE8"
   },
   "source": [
    "* $R^2$ is negative only when the chosen model does not follow the trend of the data, so fits worse than a horizontal line.\n",
    "* Here, we get R-squared score (training): 1.000, perfectly fit, but R-squared score (test): -11.533, a large negative value, which means the fit performance on test data is so poor.\n",
    "* This is because we use the train dataset to train the linear model, but the train and test datasets are generated totally differently and separately (can see from the plot):\n",
    "* y_train = 5 * X_train + 8\n",
    "* y_test = 7 * X_test + 1\n",
    "* which does not follow the assumption that the train and test data should be similar."
   ]
  },
  {
   "cell_type": "markdown",
   "metadata": {
    "id": "-_pUE4abw2eQ"
   },
   "source": [
    "### Preliminary for questions 2 and 3\n",
    "Before continuitng on to the next question, run the following block to set up the variables needed for later sections. It generates training and test data that we're going to use to fit a non-linear function (as opposed to the traditional linear regression problems you saw in the previous questions)."
   ]
  },
  {
   "cell_type": "code",
   "execution_count": 85,
   "metadata": {
    "colab": {
     "base_uri": "https://localhost:8080/",
     "height": 265
    },
    "executionInfo": {
     "elapsed": 400,
     "status": "ok",
     "timestamp": 1631799175770,
     "user": {
      "displayName": "Yachuan Liu",
      "photoUrl": "https://lh3.googleusercontent.com/a-/AOh14Gij8Ojdx9XnyGBJ_SPyXzrzY9XgpmvkCb9LHW5g7A=s64",
      "userId": "03259489182195354433"
     },
     "user_tz": 240
    },
    "id": "elbBIPpuyZeH",
    "outputId": "d316d0a5-d26e-4969-ab3d-147342f755b4"
   },
   "outputs": [
    {
     "data": {
      "image/png": "[encoded data removed]",
      "text/plain": [
       "<Figure size 432x288 with 1 Axes>"
      ]
     },
     "metadata": {
      "needs_background": "light"
     },
     "output_type": "display_data"
    }
   ],
   "source": [
    "import pandas as pd\n",
    "from sklearn.model_selection import train_test_split\n",
    "\n",
    "# generate ramdom data points X and y\n",
    "np.random.seed(0)\n",
    "n = 30\n",
    "x = np.linspace(0, 10, n) + np.random.randn(n) / 5\n",
    "y = np.sin(x) + x / 4 + np.random.randn(n) / 3\n",
    "\n",
    "# split \n",
    "X_train, X_test, y_train, y_test = train_test_split(x, y, random_state=0)\n",
    "\n",
    "# You can use this function to help you visualize the dataset by\n",
    "# plotting a scatterplot of the data points\n",
    "# in the training and test sets.\n",
    "def part1_scatter():\n",
    "    \n",
    "    import matplotlib.pyplot as plt\n",
    "    %matplotlib inline\n",
    "    \n",
    "    plt.figure()\n",
    "    plt.scatter(X_train, y_train, label='training data')\n",
    "    plt.scatter(X_test, y_test, label='test data')\n",
    "    plt.legend(loc=4);\n",
    "    \n",
    "    \n",
    "part1_scatter()  # let's plot the training and test data for the upcoming questions."
   ]
  },
  {
   "cell_type": "code",
   "execution_count": 86,
   "metadata": {},
   "outputs": [
    {
     "name": "stdout",
     "output_type": "stream",
     "text": [
      "(22,)\n",
      "(8,)\n",
      "(22,)\n",
      "(8,)\n"
     ]
    }
   ],
   "source": [
    "print(X_train.shape)\n",
    "print(X_test.shape)\n",
    "print(y_train.shape)\n",
    "print(y_test.shape)"
   ]
  },
  {
   "cell_type": "markdown",
   "metadata": {
    "id": "itE2L8t4w2ee"
   },
   "source": [
    "### Question 2 (30 points)\n",
    "\n",
    "Write a function that fits a polynomial curve to the data, by using a polynomial LinearRegression model on the *training data* `X_train` for degrees 1, 3, 6, and 9. (Recall that we use PolynomialFeatures in sklearn.preprocessing to create the polynomial features and then fit a linear regression model to those extended features). For each model, find 100 predicted values over the interval x = 0 to 10 (e.g. `np.linspace(0,10,100)`) and store this in a numpy array. The first row of this array should correspond to the output from the model trained on degree 1, the second row degree 3, the third row degree 6, and the fourth row degree 9.\n",
    "\n",
    "Note that you can run the `plot_two()` function to see the fitted curves on top of the dataset.\n",
    "\n",
    "<br>\n",
    "*This function should return a numpy array with shape `(4, 100)`*"
   ]
  },
  {
   "cell_type": "code",
   "execution_count": 153,
   "metadata": {
    "executionInfo": {
     "elapsed": 206,
     "status": "ok",
     "timestamp": 1662103878003,
     "user": {
      "displayName": "Sanzeed Anwar",
      "userId": "13718033999873552038"
     },
     "user_tz": 240
    },
    "id": "TO--G8UlyZeK"
   },
   "outputs": [
    {
     "name": "stdout",
     "output_type": "stream",
     "text": [
      "(4, 100)\n",
      "<class 'numpy.ndarray'>\n"
     ]
    },
    {
     "data": {
      "text/plain": [
       "array([[ 0.49947299,  0.51663261,  0.53379223,  0.55095185,  0.56811148,\n",
       "         0.5852711 ,  0.60243072,  0.61959034,  0.63674996,  0.65390958,\n",
       "         0.6710692 ,  0.68822883,  0.70538845,  0.72254807,  0.73970769,\n",
       "         0.75686731,  0.77402693,  0.79118655,  0.80834617,  0.8255058 ,\n",
       "         0.84266542,  0.85982504,  0.87698466,  0.89414428,  0.9113039 ,\n",
       "         0.92846352,  0.94562315,  0.96278277,  0.97994239,  0.99710201,\n",
       "         1.01426163,  1.03142125,  1.04858087,  1.06574049,  1.08290012,\n",
       "         1.10005974,  1.11721936,  1.13437898,  1.1515386 ,  1.16869822,\n",
       "         1.18585784,  1.20301747,  1.22017709,  1.23733671,  1.25449633,\n",
       "         1.27165595,  1.28881557,  1.30597519,  1.32313482,  1.34029444,\n",
       "         1.35745406,  1.37461368,  1.3917733 ,  1.40893292,  1.42609254,\n",
       "         1.44325216,  1.46041179,  1.47757141,  1.49473103,  1.51189065,\n",
       "         1.52905027,  1.54620989,  1.56336951,  1.58052914,  1.59768876,\n",
       "         1.61484838,  1.632008  ,  1.64916762,  1.66632724,  1.68348686,\n",
       "         1.70064648,  1.71780611,  1.73496573,  1.75212535,  1.76928497,\n",
       "         1.78644459,  1.80360421,  1.82076383,  1.83792346,  1.85508308,\n",
       "         1.8722427 ,  1.88940232,  1.90656194,  1.92372156,  1.94088118,\n",
       "         1.9580408 ,  1.97520043,  1.99236005,  2.00951967,  2.02667929,\n",
       "         2.04383891,  2.06099853,  2.07815815,  2.09531778,  2.1124774 ,\n",
       "         2.12963702,  2.14679664,  2.16395626,  2.18111588,  2.1982755 ],\n",
       "       [ 1.51170901,  1.4413091 ,  1.37428932,  1.31059585,  1.25017485,\n",
       "         1.19297248,  1.13893491,  1.08800829,  1.0401388 ,  0.99527259,\n",
       "         0.95335584,  0.9143347 ,  0.87815535,  0.84476393,  0.81410663,\n",
       "         0.7861296 ,  0.760779  ,  0.73800101,  0.71774178,  0.69994748,\n",
       "         0.68456427,  0.67153832,  0.66081579,  0.65234284,  0.64606565,\n",
       "         0.64193037,  0.63988316,  0.6398702 ,  0.64183764,  0.64573165,\n",
       "         0.6514984 ,  0.65908405,  0.66843475,  0.67949669,  0.69221601,\n",
       "         0.70653889,  0.72241148,  0.73977996,  0.75859049,  0.77878923,\n",
       "         0.80032234,  0.82313599,  0.84717635,  0.87238957,  0.89872182,\n",
       "         0.92611927,  0.95452808,  0.98389441,  1.01416443,  1.0452843 ,\n",
       "         1.07720019,  1.10985826,  1.14320467,  1.17718559,  1.21174719,\n",
       "         1.24683562,  1.28239705,  1.31837764,  1.35472357,  1.39138099,\n",
       "         1.42829606,  1.46541496,  1.50268384,  1.54004887,  1.57745621,\n",
       "         1.61485203,  1.6521825 ,  1.68939377,  1.72643201,  1.76324338,\n",
       "         1.79977405,  1.83597019,  1.87177795,  1.9071435 ,  1.942013  ,\n",
       "         1.97633263,  2.01004853,  2.04310689,  2.07545385,  2.10703559,\n",
       "         2.13779827,  2.16768805,  2.1966511 ,  2.22463359,  2.25158166,\n",
       "         2.2774415 ,  2.30215926,  2.32568111,  2.34795321,  2.36892173,\n",
       "         2.38853283,  2.40673267,  2.42346742,  2.43868324,  2.4523263 ,\n",
       "         2.46434276,  2.47467878,  2.48328054,  2.49009419,  2.49506589],\n",
       "       [ 0.76559896,  0.64347011,  0.56881935,  0.53395569,  0.53187029,\n",
       "         0.55620316,  0.60121069,  0.66173379,  0.73316679,  0.81142705,\n",
       "         0.89292527,  0.97453654,  1.05357206,  1.12775162,  1.19517674,\n",
       "         1.25430458,  1.30392252,  1.34312347,  1.37128188,  1.3880305 ,\n",
       "         1.3932378 ,  1.38698614,  1.36955063,  1.34137872,  1.30307049,\n",
       "         1.2553597 ,  1.19909543,  1.13522459,  1.06477504,  0.98883944,\n",
       "         0.90855982,  0.8251129 ,  0.73969605,  0.65351401,  0.56776633,\n",
       "         0.48363548,  0.40227574,  0.32480271,  0.2522836 ,  0.18572826,\n",
       "         0.12608081,  0.07421212,  0.03091287, -0.00311255, -0.02725154,\n",
       "        -0.04098799, -0.04390634, -0.03569486, -0.01614824,  0.01483046,\n",
       "         0.05722873,  0.11092406,  0.17568425,  0.25116837,  0.33692839,\n",
       "         0.43241165,  0.53696389,  0.6498331 ,  0.77017404,  0.89705349,\n",
       "         1.0294562 ,  1.16629155,  1.30640093,  1.44856585,  1.59151672,\n",
       "         1.73394237,  1.87450032,  2.01182766,  2.14455274,  2.27130757,\n",
       "         2.39074081,  2.50153167,  2.60240435,  2.69214327,  2.76960901,\n",
       "         2.83375495,  2.88364465,  2.91846988,  2.93756942,  2.94044859,\n",
       "         2.92679937,  2.89652144,  2.84974371,  2.78684673,  2.7084857 ,\n",
       "         2.61561429,  2.50950911,  2.39179488,  2.26447036,  2.129935  ,\n",
       "         1.99101621,  1.85099748,  1.71364707,  1.58324757,  1.46462599,\n",
       "         1.36318472,  1.28493315,  1.23651994,  1.2252661 ,  1.25919873],\n",
       "       [ 1.85728149,  1.42281312,  1.05006721,  0.74658316,  0.51502007,\n",
       "         0.35419476,  0.25998688,  0.22612192,  0.24484274,  0.30747937,\n",
       "         0.40492657,  0.52803789,  0.66794471,  0.81630802,  0.96551051,\n",
       "         1.10879574,  1.24036099,  1.35540991,  1.45017049,  1.52188369,\n",
       "         1.5687675 ,  1.58996106,  1.58545267,  1.55599565,  1.5030154 ,\n",
       "         1.42851062,  1.33495155,  1.22517766,  1.10229682,  0.96958801,\n",
       "         0.83040899,  0.68811038,  0.54595725,  0.40705902,  0.27430844,\n",
       "         0.15033003,  0.03743822, -0.06239457, -0.14756019, -0.21682741,\n",
       "        -0.26934547, -0.30463893, -0.3225944 , -0.32344   , -0.30771824,\n",
       "        -0.27625314, -0.23011267, -0.17056739, -0.09904633, -0.01709118,\n",
       "         0.07369017,  0.17166973,  0.275244  ,  0.38287618,  0.49313483,\n",
       "         0.60472832,  0.71653398,  0.82762128,  0.93726834,  1.04497122,\n",
       "         1.15044539,  1.25361929,  1.35461946,  1.45374753,  1.55144892,\n",
       "         1.64827375,  1.74483039,  1.84173228,  1.93953913,  2.03869343,\n",
       "         2.13945389,  2.24182732,  2.34550092,  2.44977719,  2.55351402,\n",
       "         2.65507268,  2.75227688,  2.84238647,  2.92208938,  2.98751621,\n",
       "         3.03428187,  3.05755922,  3.05219012,  3.01283954,  2.93419892,\n",
       "         2.81124541,  2.63956402,  2.4157402 ,  2.13783078,  1.80592183,\n",
       "         1.42278238,  0.99462343,  0.53197236,  0.05067319, -0.42697613,\n",
       "        -0.87093775, -1.24198713, -1.49009241, -1.55260665, -1.3522589 ]])"
      ]
     },
     "execution_count": 153,
     "metadata": {},
     "output_type": "execute_result"
    }
   ],
   "source": [
    "def answer_two():\n",
    "    from sklearn.linear_model import LinearRegression\n",
    "    from sklearn.preprocessing import PolynomialFeatures\n",
    "    \n",
    "    result = np.empty([4, 100])\n",
    "    degrees = [1, 3, 6, 9]\n",
    "    \n",
    "    for index, i in enumerate(degrees):\n",
    "        \n",
    "        # feature expend to poly features for X_train\n",
    "        poly = PolynomialFeatures(degree=i) \n",
    "        X_train_poly = poly.fit_transform(X_train.reshape(-1, 1))\n",
    "        \n",
    "        # fit the model, get the better model from ployed train data\n",
    "        linreg = LinearRegression().fit(X_train_poly, y_train)\n",
    "        \n",
    "        # use the same model to make predictions on the 100 interval values(polyed)\n",
    "        # cause follow the same feature pattern on X_train, do poly to interval datas\n",
    "        interval_data_poly = poly.fit_transform(np.linspace(0,10,100).reshape(-1, 1))\n",
    "        predicted_values = linreg.predict(interval_data_poly)\n",
    "        \n",
    "        # concate all degree's prediction results\n",
    "        result[index, :] = predicted_values\n",
    "        \n",
    "    return result\n",
    "\n",
    "# check\n",
    "print(answer_two().shape)\n",
    "print(type(answer_two()))\n",
    "answer_two()"
   ]
  },
  {
   "cell_type": "code",
   "execution_count": 155,
   "metadata": {},
   "outputs": [
    {
     "data": {
      "image/png": "[encoded data removed]",
      "text/plain": [
       "<Figure size 720x360 with 1 Axes>"
      ]
     },
     "metadata": {
      "needs_background": "light"
     },
     "output_type": "display_data"
    }
   ],
   "source": [
    "def plot_two(degree_predictions):\n",
    "    \n",
    "    import matplotlib.pyplot as plt\n",
    "    %matplotlib inline\n",
    "    \n",
    "    plt.figure(figsize=(10,5))\n",
    "    \n",
    "    plt.plot(X_train, y_train, 'o', label='training data', markersize=10)\n",
    "    plt.plot(X_test, y_test, 'o', label='test data', markersize=10)\n",
    "    \n",
    "    for i,degree in enumerate([1,3,6,9]):\n",
    "        plt.plot(np.linspace(0,10,100), degree_predictions[i], alpha=0.8, lw=2, label='degree={}'.format(degree))\n",
    "        # here, the degree_predictions are the (4, 100) np.array we get from previous question\n",
    "        # plot(x_values, y_values)\n",
    "        \n",
    "    plt.ylim(-1,3.5)\n",
    "    plt.legend(loc=4)\n",
    "\n",
    "plot_two(answer_two())"
   ]
  },
  {
   "cell_type": "markdown",
   "metadata": {
    "id": "zEPri5P8yZeL"
   },
   "source": [
    "### Question 3 (30 points)\n",
    "\n",
    "Write a function that fits a polynomial LinearRegression model on the training data `X_train` for degrees 0 through 9. For each model compute the $R^2$ (coefficient of determination) regression score on the training data as well as the the test data, and return both of these arrays in a tuple.\n",
    "\n",
    "Based on the $R^2$ scores above (degree levels 0 through 9), what degree level corresponds to a model that is underfitting? What degree level corresponds to a model that is overfitting? What choice of degree level would provide a model with good generalization performance on this dataset? Note: there may be multiple correct solutions to this question.\n",
    "\n",
    "(Hint: you can plot the r2_train and r2_test vs the degree to investigate underfitting/overfitting.)\n",
    "\n",
    "*This function should return one tuple of numpy arrays `(r2_train, r2_test, Underfitting, Good_Generalization, Overfitting)`, where both `r2_train` and `r2_test` should have shape `(10,)`, and `Underfitting, Good_Generalization, Overfitting` should be three lists of int partitioning 0-9.*"
   ]
  },
  {
   "cell_type": "code",
   "execution_count": 189,
   "metadata": {
    "id": "ug201rllyZeM"
   },
   "outputs": [
    {
     "data": {
      "image/png": "[encoded data removed]",
      "text/plain": [
       "<Figure size 432x288 with 1 Axes>"
      ]
     },
     "metadata": {
      "needs_background": "light"
     },
     "output_type": "display_data"
    },
    {
     "data": {
      "text/plain": [
       "(array([0.        , 0.26439755, 0.32742358, 0.37220126, 0.86736045,\n",
       "        0.87144785, 0.91335744, 0.93652344, 0.93840679, 0.94068506]),\n",
       " array([-0.01063969,  0.54040848,  0.64266551,  0.76381091,  0.65922591,\n",
       "         0.75737122,  0.77130324,  0.38779952,  0.81042065, -0.59293955]),\n",
       " [0, 1, 2, 3],\n",
       " [4, 5, 6, 8],\n",
       " [7, 9])"
      ]
     },
     "execution_count": 189,
     "metadata": {},
     "output_type": "execute_result"
    }
   ],
   "source": [
    "def answer_three():\n",
    "    from sklearn.linear_model import LinearRegression\n",
    "    from sklearn.preprocessing import PolynomialFeatures\n",
    "\n",
    "    # \n",
    "    #result = np.empty([4, 100])\n",
    "    degrees = [0,1,2,3,4,5,6,7,8,9]\n",
    "\n",
    "    r2_train = []\n",
    "    r2_test = []\n",
    "\n",
    "    for index, i in enumerate(degrees):\n",
    "\n",
    "        # feature expend to poly features for X_train\n",
    "        poly = PolynomialFeatures(degree=i) \n",
    "        X_train_poly = poly.fit_transform(X_train.reshape(-1, 1))\n",
    "\n",
    "        # fit the model, get the better model from ployed train data\n",
    "        linreg = LinearRegression().fit(X_train_poly, y_train)\n",
    "\n",
    "        # use the same model to test on test dataset (polyed)\n",
    "        X_test_poly = poly.fit_transform(X_test.reshape(-1, 1))\n",
    "        y_pred = linreg.predict(X_test_poly)\n",
    "\n",
    "        # print('R-squared score (training): {:.3f}'\n",
    "        #      .format(linreg.score(X_train_poly, y_train)))\n",
    "        # print('R-squared score (test): {:.3f}'\n",
    "        #      .format(linreg.score(X_test_poly, y_test)))\n",
    "\n",
    "        r2_train.append(linreg.score(X_train_poly, y_train))\n",
    "        r2_test.append(linreg.score(X_test_poly, y_test))\n",
    "    \n",
    "    # plot\n",
    "    # r2_train and r2_test (both on the y-axis) against the list of degrees (on the x-axis)\n",
    "    plt.plot(degrees, r2_train, label='Training r2_score', color='darkorange')\n",
    "    plt.plot(degrees, r2_test, label='Testing r2_score', color='navy')\n",
    "    plt.legend(loc='best')\n",
    "    plt.xlim(0,9)\n",
    "    plt.show()\n",
    "\n",
    "    # evaluation (get from plot)\n",
    "    Underfitting = [0, 1, 2, 3]\n",
    "    Good_Generalization = [4, 5, 6, 8]\n",
    "    Overfitting = [7, 9]\n",
    "\n",
    "    return (np.array(r2_train), np.array(r2_test), Underfitting, Good_Generalization, Overfitting)\n",
    "\n",
    "answer_three()\n",
    "\n",
    "\n",
    "# check\n",
    "# print(np.shape(r2_train))\n",
    "# print(np.shape(r2_test))"
   ]
  },
  {
   "cell_type": "markdown",
   "metadata": {},
   "source": [
    "* according to the plot, we can see degree level: \n",
    "* [0, 1, 2, 3] corresponds to underfitting models, because the $R^2$ is low, test $R^2$ is higher than train $R^2$, and they are in continuous growth; \n",
    "* [4, 5, 6, 8] corresponds to good generalization performance, because the $R^2$ nearly get the highest value, both for test and train; \n",
    "* [7, 9] corresponds to overfitting models, because the test $R^2$ is dropping with train $R^2$ is slightly increasing;\n",
    "* "
   ]
  },
  {
   "cell_type": "code",
   "execution_count": null,
   "metadata": {},
   "outputs": [],
   "source": []
  }
 ],
 "metadata": {
  "anaconda-cloud": {},
  "colab": {
   "collapsed_sections": [
    "yJblUABQ6R07",
    "-_pUE4abw2eQ",
    "itE2L8t4w2ee",
    "zEPri5P8yZeL"
   ],
   "provenance": []
  },
  "kernelspec": {
   "display_name": "Python 3 (ipykernel)",
   "language": "python",
   "name": "python3"
  },
  "language_info": {
   "codemirror_mode": {
    "name": "ipython",
    "version": 3
   },
   "file_extension": ".py",
   "mimetype": "text/x-python",
   "name": "python",
   "nbconvert_exporter": "python",
   "pygments_lexer": "ipython3",
   "version": "3.9.7"
  }
 },
 "nbformat": 4,
 "nbformat_minor": 4
}
