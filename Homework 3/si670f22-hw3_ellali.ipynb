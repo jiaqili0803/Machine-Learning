{
 "cells": [
  {
   "cell_type": "markdown",
   "metadata": {
    "id": "OWTe9VS3_b11"
   },
   "source": [
    "## SI 670 Applied Machine Learning, Week 3: Cross Validation, Logistic Regression and Evaluation (Due Wednesday Sept 21, 2022 11:59pm)\n",
    "\n",
    "For this assignment, you will be exercising on questions related to Logistic regression, Dummy classifiers, and cross-validation.\n",
    "\n",
    "* This homework is worth 100 points in total. Correct answers and code receive full credit, but partial credit will be awarded if you have the right idea even if your final answers aren't quite right.\n",
    "\n",
    "* Submit your completed notebook file to the Canvas site - **IMPORTANT**: please name your submitted file `si670f22-hw3-youruniqname.ipynb`\n",
    "\n",
    "* Any file submitted after the deadline will be marked as late. Please consult the syllabus regarding late submission policies. You can submit the homework as many time as you want, but only your latest submission will be graded.\n",
    "\n",
    "* As a reminder, the notebook code you submit must be your own work. Feel free to discuss general approaches to the homework with classmates. If you end up forming more of a team discussion on multiple questions, please include the names of the people you worked with at the top of your notebook file.\n",
    "\n"
   ]
  },
  {
   "cell_type": "code",
   "execution_count": 38,
   "metadata": {},
   "outputs": [],
   "source": [
    "import warnings\n",
    "warnings.filterwarnings(\"ignore\")"
   ]
  },
  {
   "cell_type": "markdown",
   "metadata": {},
   "source": [
    "### Question 1 (20 points)\n",
    "\n",
    "This question asks you to explore the relationship between the distribution of cross-validation scores vs the data size. \n",
    "\n",
    "Please use a 'for' loop to repeat the following steps with `n` varying from `[100, 500, 1000, 5000, 10000]`:\n",
    "1. Generate synthetic data `(X_F1, y_F1)` using `make_friedman1` with `n_samples=n, n_features=7, random_state=0`;\n",
    "2. Create a `LinearRegression` model\n",
    "3. Apply `cross_val_score` to the model and generated data and use three-fold cross-validation.\n",
    "4. Calculate the mean and std of the returned `cv_scores` across the 3 cross-validation folds.\n",
    "\n",
    "Store the mean and std of the `cv_scores` in lists `cv_scores_mean` and `cv_scores_std` respectively. Do you see the std increasing or decreasing? And why? \n",
    "\n",
    "*This function should return a tuple of two lists `(cv_scores_mean, cv_scores_std)`, where both of them should have length 5.*\n"
   ]
  },
  {
   "cell_type": "code",
   "execution_count": 39,
   "metadata": {},
   "outputs": [
    {
     "data": {
      "text/plain": [
       "([0.5862365816447457,\n",
       "  0.7508663843803186,\n",
       "  0.7614139359076489,\n",
       "  0.7592124964126864,\n",
       "  0.7685339054684749],\n",
       " [0.12623988431365468,\n",
       "  0.022971456021162427,\n",
       "  0.01657608922240515,\n",
       "  0.00686936636379618,\n",
       "  0.0032574129082558103])"
      ]
     },
     "execution_count": 39,
     "metadata": {},
     "output_type": "execute_result"
    }
   ],
   "source": [
    "def answer_one():\n",
    "    import numpy as np\n",
    "    from sklearn.datasets import make_friedman1\n",
    "    from sklearn.linear_model import LinearRegression\n",
    "    from sklearn.model_selection import cross_val_score\n",
    "    from sklearn.model_selection import train_test_split\n",
    "\n",
    "    cv_scores_mean = []\n",
    "    cv_scores_std = []\n",
    "\n",
    "    #\n",
    "    sample_range = [100, 500, 1000, 5000, 10000]\n",
    "    for n in sample_range:\n",
    "        X_F1, y_F1 = make_friedman1(n_samples=n, n_features=7, random_state=0)\n",
    "\n",
    "        X_train, X_test, y_train, y_test = train_test_split(\n",
    "            X_F1, y_F1, random_state=0)\n",
    "        linreg = LinearRegression()\n",
    "\n",
    "        # get R2 score (cv score)\n",
    "        cv_scores = cross_val_score(linreg, X_train, y_train, cv=3)\n",
    "        cv_scores_mean.append(np.mean(cv_scores))\n",
    "        cv_scores_std.append(np.std(cv_scores))\n",
    "\n",
    "    return (cv_scores_mean, cv_scores_std)\n",
    "\n",
    "\n",
    "answer_one()\n",
    "\n",
    "# the std (of cv_scores) decrease, when data size increase\n",
    "# this is because:\n",
    "# As the sample size gets larger, the dispersion gets smaller,\n",
    "# and the mean of the distribution is closer to the population mean (Central Limit Theory)."
   ]
  },
  {
   "cell_type": "markdown",
   "metadata": {
    "id": "-_pUE4abw2eQ"
   },
   "source": [
    "Now, you will train a logistic regression classifier models and evaluate how effectively it  predicts instances of fraud using data based on [this dataset from Kaggle](https://www.kaggle.com/dalpozz/creditcardfraud). Then you'll perform a grid search to find optimal parameters. \n",
    " \n",
    "Each row in `fraud_data.csv` corresponds to a credit card transaction. Features include confidential variables `V1` through `V28` as well as `Amount` which is the amount of the transaction. \n",
    " \n",
    "The target is stored in the `class` column, where a value of 1 corresponds to an instance of fraud and 0 corresponds to an instance of not fraud."
   ]
  },
  {
   "cell_type": "code",
   "execution_count": 9,
   "metadata": {
    "id": "9sZdd_dXOF6I"
   },
   "outputs": [],
   "source": [
    "# # run this cell if you are using Colab\n",
    "\n",
    "# !rm -rf fraud_data.csv\n",
    "\n",
    "# import io\n",
    "\n",
    "# from google.colab import files as colab_files\n",
    "# uploaded = colab_files.upload()\n",
    "# files = {'fraud_data.csv': io.BytesIO(uploaded['fraud_data.csv'])}\n",
    "\n",
    "# # upload 'fraud_data.csv'"
   ]
  },
  {
   "cell_type": "code",
   "execution_count": 40,
   "metadata": {
    "id": "Qkk268H3OF6J"
   },
   "outputs": [],
   "source": [
    "# run this cell if you are using Jupyter\n",
    "files = {'fraud_data.csv': 'fraud_data.csv'}"
   ]
  },
  {
   "cell_type": "code",
   "execution_count": 41,
   "metadata": {
    "id": "XyRpHK8dOF6J"
   },
   "outputs": [],
   "source": [
    "%matplotlib inline\n",
    "import matplotlib.pyplot as plt\n",
    "import numpy as np\n",
    "import pandas as pd\n",
    "from sklearn.model_selection import train_test_split\n",
    "\n",
    "from sklearn.preprocessing import MinMaxScaler\n",
    "\n",
    "df = pd.read_csv(files['fraud_data.csv'])\n",
    "\n",
    "X = df.iloc[:, :-1]\n",
    "y = df.iloc[:, -1]\n",
    "\n",
    "X_train, X_test, y_train, y_test = train_test_split(X, y, random_state=0)\n",
    "\n",
    "scaler = MinMaxScaler()\n",
    "\n",
    "X_train = scaler.fit_transform(X_train)\n",
    "X_test = scaler.transform(X_test)"
   ]
  },
  {
   "cell_type": "code",
   "execution_count": 42,
   "metadata": {},
   "outputs": [
    {
     "data": {
      "text/plain": [
       "array([[9.14737935e-01, 6.94203073e-01, 9.22065188e-01, ...,\n",
       "        4.02094243e-01, 3.74792937e-01, 5.18643281e-04],\n",
       "       [9.87577925e-01, 6.66204157e-01, 8.61216626e-01, ...,\n",
       "        4.42870679e-01, 3.96346977e-01, 1.24474387e-02],\n",
       "       [9.95271979e-01, 6.55435785e-01, 8.56951974e-01, ...,\n",
       "        4.39751780e-01, 3.94657005e-01, 6.48304101e-03],\n",
       "       ...,\n",
       "       [9.85200074e-01, 6.72772839e-01, 8.27250890e-01, ...,\n",
       "        4.37631877e-01, 3.96862674e-01, 1.57356371e-02],\n",
       "       [9.71466633e-01, 6.79353323e-01, 8.90553407e-01, ...,\n",
       "        4.45839830e-01, 4.00887075e-01, 9.07625742e-04],\n",
       "       [9.27336595e-01, 6.76414715e-01, 9.03658957e-01, ...,\n",
       "        4.37054710e-01, 3.92479056e-01, 2.59321641e-02]])"
      ]
     },
     "execution_count": 42,
     "metadata": {},
     "output_type": "execute_result"
    }
   ],
   "source": [
    "X_train"
   ]
  },
  {
   "cell_type": "code",
   "execution_count": 43,
   "metadata": {},
   "outputs": [
    {
     "data": {
      "text/plain": [
       "7681     0\n",
       "21329    0\n",
       "14695    0\n",
       "12338    0\n",
       "17768    0\n",
       "        ..\n",
       "13123    0\n",
       "19648    0\n",
       "9845     0\n",
       "10799    0\n",
       "2732     0\n",
       "Name: Class, Length: 16269, dtype: int64"
      ]
     },
     "execution_count": 43,
     "metadata": {},
     "output_type": "execute_result"
    }
   ],
   "source": [
    "y_train"
   ]
  },
  {
   "cell_type": "markdown",
   "metadata": {
    "id": "itE2L8t4w2ee"
   },
   "source": [
    "### Question 2 (20 points)\n",
    "\n",
    "Using `X_train`, `X_test`, `y_train`, and `y_test` (as defined above), train a dummy classifier that classifies everything as the majority class of the training data. What is the accuracy of this classifier? What is the recall?\n",
    "\n",
    "Then train a LogisticRegression classifier with C=1. What is the accuracy? What is the recall?\n",
    "\n",
    "*This function should a return a tuple with four floats, i.e. `(dummy_accuracy, dummy_recall, lr_accuracy, lr_recall)`.*"
   ]
  },
  {
   "cell_type": "code",
   "execution_count": 44,
   "metadata": {
    "id": "8qd9c7olOF6L"
   },
   "outputs": [
    {
     "data": {
      "text/plain": [
       "(0.9852507374631269, 0.0, 0.9948377581120944, 0.675)"
      ]
     },
     "execution_count": 44,
     "metadata": {},
     "output_type": "execute_result"
    }
   ],
   "source": [
    "def answer_two():\n",
    "\n",
    "    from sklearn.dummy import DummyClassifier\n",
    "    from sklearn.metrics import accuracy_score, precision_score, recall_score, f1_score\n",
    "    from sklearn.linear_model import LogisticRegression\n",
    "\n",
    "    # dummy\n",
    "    dummy_majority = DummyClassifier(\n",
    "        strategy='most_frequent').fit(X_train, y_train)\n",
    "\n",
    "    y_dummy_predictions = dummy_majority.predict(X_test)\n",
    "\n",
    "    dummy_accuracy = accuracy_score(y_test, y_dummy_predictions)\n",
    "    dummy_recall = recall_score(y_test, y_dummy_predictions)\n",
    "\n",
    "    # LogisticRegression\n",
    "    lr = LogisticRegression(C=1).fit(X_train, y_train)\n",
    "    lr_predicted = lr.predict(X_test)\n",
    "\n",
    "    lr_accuracy = accuracy_score(y_test, lr_predicted)\n",
    "    lr_recall = recall_score(y_test, lr_predicted)\n",
    "\n",
    "    return dummy_accuracy, dummy_recall, lr_accuracy, lr_recall\n",
    "\n",
    "\n",
    "answer_two()"
   ]
  },
  {
   "cell_type": "markdown",
   "metadata": {
    "id": "hzgEUQqLOF6M"
   },
   "source": [
    "### Question 3 (20 points)\n",
    "\n",
    "Fit the LogisticRegression with `C` varying from `[[0.1, 1, 10]` and report the accuracy, precision, recall, and F1 scores for each choice of `C`.\n",
    "\n",
    "*This function should a return a tuple with four lists, i.e. `(accuracy_list, precision_list, recall_list, f1_list)`, and each list should contain 3 numbers, one per choice of C*"
   ]
  },
  {
   "cell_type": "code",
   "execution_count": 45,
   "metadata": {
    "id": "FQhWIu5YOF6N"
   },
   "outputs": [
    {
     "data": {
      "text/plain": [
       "([0.9900442477876106, 0.9948377581120944, 0.9963126843657817],\n",
       " [0.9333333333333333, 0.9642857142857143, 0.96875],\n",
       " [0.35, 0.675, 0.775],\n",
       " [0.5090909090909091, 0.7941176470588236, 0.8611111111111113])"
      ]
     },
     "execution_count": 45,
     "metadata": {},
     "output_type": "execute_result"
    }
   ],
   "source": [
    "def answer_three():\n",
    "\n",
    "    from sklearn.metrics import accuracy_score, precision_score, recall_score, f1_score\n",
    "    from sklearn.linear_model import LogisticRegression\n",
    "\n",
    "    accuracy_list = []\n",
    "    precision_list = []\n",
    "    recall_list = []\n",
    "    f1_list = []\n",
    "\n",
    "    param_range = [0.1, 1, 10]\n",
    "    for this_C in param_range:\n",
    "        lr = LogisticRegression(C=this_C).fit(X_train, y_train)\n",
    "        lr_predicted = lr.predict(X_test)\n",
    "\n",
    "        accuracy_list.append(accuracy_score(y_test, lr_predicted))\n",
    "        precision_list.append(precision_score(y_test, lr_predicted))\n",
    "        recall_list.append(recall_score(y_test, lr_predicted))\n",
    "        f1_list.append(f1_score(y_test, lr_predicted))\n",
    "\n",
    "    return accuracy_list, precision_list, recall_list, f1_list\n",
    "\n",
    "\n",
    "answer_three()"
   ]
  },
  {
   "cell_type": "markdown",
   "metadata": {
    "id": "mPLuNfuBOF6N"
   },
   "source": [
    "### Question 4 (20 points)\n",
    "\n",
    "Train a logistic regression classifier with `C=10` using X_train and y_train.\n",
    "\n",
    "For the logistic regression classifier, create (1) a precision-recall curve and (2) an ROC curve using y_test and the probability estimates for X_test (probability it is fraud).\n",
    "\n",
    "Looking at the precision recall curve, what is the recall when the precision is `0.75`?\n",
    "\n",
    "Looking at the ROC curve, what is the true positive rate when the false positive rate is `0.16`?\n",
    "\n",
    "*This function should return a tuple with two floats, i.e. `(recall_at_p75, tpr_at_fpr16)`.*\n",
    "*You should also include code that uses the scikit-learn (sklearn.metrics) functions precision_recall_curve and roc_curve to generate the precision/recall and ROC curves above*"
   ]
  },
  {
   "cell_type": "code",
   "execution_count": 46,
   "metadata": {
    "id": "P7O1_7ZaOF6O"
   },
   "outputs": [
    {
     "data": {
      "image/png": "[encoded data removed]",
      "text/plain": [
       "<Figure size 432x288 with 1 Axes>"
      ]
     },
     "metadata": {
      "needs_background": "light"
     },
     "output_type": "display_data"
    },
    {
     "name": "stdout",
     "output_type": "stream",
     "text": [
      "AUC is:  0.9649677208083832\n"
     ]
    },
    {
     "data": {
      "image/png": "[encoded data removed]",
      "text/plain": [
       "<Figure size 432x288 with 1 Axes>"
      ]
     },
     "metadata": {
      "needs_background": "light"
     },
     "output_type": "display_data"
    },
    {
     "name": "stdout",
     "output_type": "stream",
     "text": [
      "[0.   0.   0.   0.   0.   0.   0.   0.   0.   0.   0.   0.01 0.01 0.02\n",
      " 0.02 0.05 0.05 0.05 0.05 0.06 0.06 0.06 0.06 0.14 0.14 0.15 0.15 0.15\n",
      " 0.15 0.17 0.17 0.21 0.21 0.22 0.22 0.22 0.22 0.28 0.28 0.34 0.34 0.37\n",
      " 0.37 0.6  0.6  0.66 0.66 0.71 0.71 0.9  0.9  1.  ]\n"
     ]
    },
    {
     "data": {
      "text/plain": [
       "(0.825, 0.91875)"
      ]
     },
     "execution_count": 46,
     "metadata": {},
     "output_type": "execute_result"
    }
   ],
   "source": [
    "def answer_four():\n",
    "\n",
    "    from sklearn.metrics import accuracy_score, precision_score, recall_score, f1_score\n",
    "    from sklearn.linear_model import LogisticRegression\n",
    "    from sklearn.metrics import precision_recall_curve\n",
    "    from sklearn.metrics import roc_curve, auc\n",
    "\n",
    "    lr = LogisticRegression(C=10)\n",
    "\n",
    "    y_scores_lr = lr.fit(X_train, y_train).decision_function(X_test)\n",
    "\n",
    "    # precision-recall curve\n",
    "    precision, recall, thresholds = precision_recall_curve(y_test, y_scores_lr)\n",
    "    plt.figure()\n",
    "    plt.plot(precision, recall, label='Precision-Recall Curve')\n",
    "    plt.xlabel('Precision', fontsize=16)\n",
    "    plt.ylabel('Recall', fontsize=16)\n",
    "    plt.show()\n",
    "\n",
    "    # ROC curve\n",
    "    fpr, tpr, _ = roc_curve(y_test, y_scores_lr)\n",
    "    roc_auc = auc(fpr, tpr)\n",
    "    print(\"AUC is: \", roc_auc)\n",
    "    plt.plot(fpr, tpr, lw=3,\n",
    "             label='LogRegr ROC curve (area = {:0.2f})'.format(roc_auc))\n",
    "    plt.xlabel('False Positive Rate', fontsize=16)\n",
    "    plt.ylabel('True Positive Rate', fontsize=16)\n",
    "    plt.legend(loc='lower right', fontsize=13)\n",
    "    plt.plot([0, 1], [0, 1], color='navy', lw=3, linestyle='--')\n",
    "    plt.show()\n",
    "\n",
    "    # values\n",
    "    recall_at_p75 = recall[precision == 0.75][0]\n",
    "    tpr_at_fpr17 = tpr[np.round(fpr, 2) == 0.17][0]\n",
    "    tpr_at_fpr15 = tpr[np.round(fpr, 2) == 0.15][0]\n",
    "    tpr_at_fpr16 = (tpr_at_fpr17+tpr_at_fpr15)/2\n",
    "    print(np.round(fpr, 2))\n",
    "\n",
    "    return recall_at_p75, tpr_at_fpr16\n",
    "\n",
    "\n",
    "answer_four()"
   ]
  },
  {
   "cell_type": "markdown",
   "metadata": {},
   "source": [
    "I take tpr_at_fpr16 = (tpr_at_fpr17+tpr_at_fpr15)/2 here, because there is no exact value fpr=0.16"
   ]
  },
  {
   "cell_type": "markdown",
   "metadata": {
    "id": "7l9PMRZnOF6O"
   },
   "source": [
    "### Question 5 (20 Points)\n",
    "\n",
    "Suppose you have trained a classifier distinguishing Benign vs Malignant cancers. And the confusion matrix of your classifier is given below.\n",
    "\n",
    "|      \t| Predicted: Benign \t| Predicted: Malignant \t|\n",
    "|:----:\t|----\t|----\t|\n",
    "| Actual: Benign \t|    10000\t|   100 \t|\n",
    "| Actual: Malignant  \t|    200\t|   10 \t|\n",
    "\n",
    "### Question 5 (a) (10 points) \n",
    "If we assume Benign is the positive class and Malignant is the negative class, what are the precision and recall for Benign? If we assume Malignant is the positive class and Benign is the negative class, what are the precision and recall for Malignant?\n",
    "\n",
    "*This function should return a tuple of four float numbers: `(precision_benign, recall_benign, precision_malignant, recall_malignant)`. You can calculate these scores either by coding, or by hand using the correct formulas for precision and recall.*"
   ]
  },
  {
   "cell_type": "code",
   "execution_count": 48,
   "metadata": {},
   "outputs": [],
   "source": [
    "# # 1. Benign is the positive class, Malignant is the negative class;"
   ]
  },
  {
   "attachments": {
    "3413384f-645c-4dc0-9512-2a95d692cb19.png": {
     "image/png": "[encoded data removed]"
    }
   },
   "cell_type": "markdown",
   "metadata": {},
   "source": [
    "![image.png](attachment:3413384f-645c-4dc0-9512-2a95d692cb19.png)"
   ]
  },
  {
   "cell_type": "code",
   "execution_count": 49,
   "metadata": {},
   "outputs": [],
   "source": [
    "# 2. Malignant is the positive class, Benign is the negative class;"
   ]
  },
  {
   "attachments": {
    "e59ffd7d-55e4-4542-9145-ccbcf2287656.png": {
     "image/png": "[encoded data removed]"
    }
   },
   "cell_type": "markdown",
   "metadata": {},
   "source": [
    "![image.png](attachment:e59ffd7d-55e4-4542-9145-ccbcf2287656.png)"
   ]
  },
  {
   "cell_type": "code",
   "execution_count": 50,
   "metadata": {
    "id": "l1F7nE48OF6P"
   },
   "outputs": [
    {
     "data": {
      "text/plain": [
       "(0.9803921568627451,\n",
       " 0.9900990099009901,\n",
       " 0.09090909090909091,\n",
       " 0.047619047619047616)"
      ]
     },
     "execution_count": 50,
     "metadata": {},
     "output_type": "execute_result"
    }
   ],
   "source": [
    "def answer_five_a():\n",
    "\n",
    "    from sklearn.metrics import accuracy_score, precision_score, recall_score, f1_score\n",
    "\n",
    "    # Precision = TP / (TP + FP)\n",
    "    # Recall = TP / (TP + FN)  Also known as sensitivity, or True Positive Rate\n",
    "\n",
    "    # 1. Benign is the positive class, Malignant is the negative class;\n",
    "    precision_benign = 10000 / (10000+200)\n",
    "    recall_benign = 10000 / (10000+100)\n",
    "\n",
    "    # 2. Malignant is the positive class, Benign is the negative class;\n",
    "    precision_malignant = 10 / (10 + 100)\n",
    "    recall_malignant = 10 / (10 + 200)\n",
    "\n",
    "    return precision_benign, recall_benign, precision_malignant, recall_malignant\n",
    "\n",
    "\n",
    "answer_five_a()"
   ]
  },
  {
   "cell_type": "markdown",
   "metadata": {
    "id": "Rry-cXSjOF6P"
   },
   "source": [
    "### Question 5 (b) (10 points) \n",
    "If you have another classifier with the following confusion matrix, which classifier do you prefer and why? (Hint: calculate the precision and recall scores for this classifier and compare with the previous classifier, considering what the relative costs are for each type of mistake.)\n",
    "\n",
    "|      \t| Predicted: Benign \t| Predicted: Malignant \t|\n",
    "|:----:\t|----\t|----\t|\n",
    "| Actual: Benign \t|    7000\t|   3100 \t|\n",
    "| Actual: Malignant  \t|    30\t|   180 \t|"
   ]
  },
  {
   "cell_type": "markdown",
   "metadata": {
    "id": "lh7SYTtJOF6P"
   },
   "source": [
    "#### Answer to question 4 (b)"
   ]
  },
  {
   "cell_type": "code",
   "execution_count": 51,
   "metadata": {},
   "outputs": [
    {
     "name": "stdout",
     "output_type": "stream",
     "text": [
      "For benign is positive:\n",
      "   precision is: 0.9957325746799431, recall is: 0.693069306930693\n",
      "For malignant is positive:\n",
      "   precision is: 0.054878048780487805, recall is: 0.8571428571428571\n"
     ]
    }
   ],
   "source": [
    "# 1. Benign is the positive class, Malignant is the negative class;\n",
    "precision_benign_2 = 7000 / (7000+30)\n",
    "recall_benign_2 = 7000 / (7000+3100)\n",
    "\n",
    "print(\"For benign is positive:\\n   precision is: {}, recall is: {}\".format(\n",
    "    precision_benign_2, recall_benign_2))\n",
    "\n",
    "# 2. Malignant is the positive class, Benign is the negative class;\n",
    "precision_malignant_2 = 180 / (180 + 3100)\n",
    "recall_malignant_2 = 180 / (180 + 30)\n",
    "\n",
    "print(\"For malignant is positive:\\n   precision is: {}, recall is: {}\".format(\n",
    "    precision_malignant_2, recall_malignant_2))"
   ]
  },
  {
   "cell_type": "code",
   "execution_count": 52,
   "metadata": {},
   "outputs": [],
   "source": [
    "# Compare the precision and recall, which classifier do you prefer and why?\n",
    "# (considering what the relative costs are for each type of mistake) "
   ]
  },
  {
   "cell_type": "code",
   "execution_count": 53,
   "metadata": {},
   "outputs": [],
   "source": [
    "# classifier_1\n",
    "# 1. Benign is the positive class, Malignant is the negative class;\n",
    "precision_benign = 10000 / (10000+200)\n",
    "recall_benign = 10000 / (10000+100)\n",
    "\n",
    "# 2. Malignant is the positive class, Benign is the negative class;\n",
    "precision_malignant = 10 / (10 + 100)\n",
    "recall_malignant = 10 / (10 + 200)"
   ]
  },
  {
   "cell_type": "markdown",
   "metadata": {},
   "source": [
    "The first classifier:\n",
    "\n",
    "For benign is positive:  \n",
    "    precision is: 0.9803921568627451,   recall is: 0.9900990099009901,  \n",
    "For malignant is positive:  \n",
    "    precision is: 0.09090909090909091, recall is: 0.047619047619047616;\n",
    "    \n",
    "The second classifier:\n",
    "\n",
    "For benign is positive:  \n",
    "    precision is: 0.9957325746799431, recall is: 0.693069306930693  \n",
    "For malignant is positive:  \n",
    "    precision is: 0.054878048780487805, recall is: 0.8571428571428571"
   ]
  },
  {
   "cell_type": "code",
   "execution_count": 54,
   "metadata": {},
   "outputs": [
    {
     "name": "stdout",
     "output_type": "stream",
     "text": [
      "classifier_1\n",
      "For benign is positive:\n",
      "   f1 is: 0.9852216748768472\n",
      "For malignant is positive:\n",
      "   f1 is: 0.0625\n",
      "classifier_2\n",
      "For benign is positive:\n",
      "   f1 is: 0.8172796263864565\n",
      "For malignant is positive:\n",
      "   f1 is: 0.10315186246418337\n"
     ]
    }
   ],
   "source": [
    "# F1 = 2 * Precision * Recall / (Precision + Recall)\n",
    "print(\"classifier_1\")\n",
    "print(\"For benign is positive:\\n   f1 is: {}\".format(\n",
    "    2*precision_benign*recall_benign/(precision_benign+recall_benign)))\n",
    "print(\"For malignant is positive:\\n   f1 is: {}\".format(\n",
    "    2*precision_malignant*recall_malignant/(precision_malignant+recall_malignant)))\n",
    "\n",
    "print(\"classifier_2\")\n",
    "print(\"For benign is positive:\\n   f1 is: {}\".format(\n",
    "    2*precision_benign_2*recall_benign_2/(precision_benign_2+recall_benign_2)))\n",
    "print(\"For malignant is positive:\\n   f1 is: {}\".format(\n",
    "    2*precision_malignant_2*recall_malignant_2/(precision_malignant_2+recall_malignant_2)))"
   ]
  },
  {
   "cell_type": "markdown",
   "metadata": {},
   "source": [
    "  cancer problem are Recall-oriented tasks, we want to detect all the potential tumor, so the Recall for malignant should be higher,\n",
    "* first classifier: recall is: 0.047619047619047616,\n",
    "* second classifier: recall is: 0.8571428571428571,  \n",
    "so, the second classifier is a lot better to detect the tumor, I prefer this one."
   ]
  },
  {
   "cell_type": "code",
   "execution_count": null,
   "metadata": {},
   "outputs": [],
   "source": []
  },
  {
   "cell_type": "code",
   "execution_count": null,
   "metadata": {},
   "outputs": [],
   "source": []
  }
 ],
 "metadata": {
  "anaconda-cloud": {},
  "colab": {
   "collapsed_sections": [],
   "name": "si670f21_hw_3.ipynb",
   "provenance": []
  },
  "kernelspec": {
   "display_name": "Python 3 (ipykernel)",
   "language": "python",
   "name": "python3"
  },
  "language_info": {
   "codemirror_mode": {
    "name": "ipython",
    "version": 3
   },
   "file_extension": ".py",
   "mimetype": "text/x-python",
   "name": "python",
   "nbconvert_exporter": "python",
   "pygments_lexer": "ipython3",
   "version": "3.9.12"
  }
 },
 "nbformat": 4,
 "nbformat_minor": 4
}
