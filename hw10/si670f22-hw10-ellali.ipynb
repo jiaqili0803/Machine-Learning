{
 "cells": [
  {
   "cell_type": "markdown",
   "metadata": {
    "id": "2UO986OetdNb"
   },
   "source": [
    "## SI 670 Applied Machine Learning, Homework 10: CNNs and Stochastic Gradient Dsecent (Due 11/30 11:59pm)"
   ]
  },
  {
   "cell_type": "markdown",
   "metadata": {
    "id": "vUrWk5HprBbf"
   },
   "source": [
    "For this homework, we will be building a Convolution Neural Network to classify the images in the [CIFAR10 dataset](https://keras.io/api/datasets/cifar10/). Let's start by setting up the data."
   ]
  },
  {
   "cell_type": "code",
   "execution_count": 1,
   "metadata": {
    "id": "W9E3thk_rBbs"
   },
   "outputs": [
    {
     "name": "stdout",
     "output_type": "stream",
     "text": [
      "Downloading data from https://www.cs.toronto.edu/~kriz/cifar-10-python.tar.gz\n",
      "170498071/170498071 [==============================] - 15s 0us/step\n"
     ]
    }
   ],
   "source": [
    "from keras.datasets import cifar10\n",
    "\n",
    "\n",
    "(train_images, train_labels), (test_images, test_labels) = cifar10.load_data()\n",
    "\n",
    "train_images = train_images.reshape((50000, 32, 32, 3))\n",
    "train_images = train_images.astype('float32') / 255\n",
    "\n",
    "test_images = test_images.reshape((10000, 32, 32, 3))\n",
    "test_images = test_images.astype('float32')/ 255\n"
   ]
  },
  {
   "cell_type": "markdown",
   "metadata": {
    "id": "wKd2KfJwtdNg"
   },
   "source": [
    "### Question 1 (15 points)\n",
    "\n",
    "Conver the train and test labels to categorical variables using the `to_categorical` function"
   ]
  },
  {
   "cell_type": "code",
   "execution_count": 2,
   "metadata": {
    "id": "Tz-MotY_tdNg"
   },
   "outputs": [],
   "source": [
    "from keras.utils import to_categorical\n",
    "\n",
    "train_labels = to_categorical(train_labels)\n",
    "test_labels = to_categorical(test_labels)"
   ]
  },
  {
   "cell_type": "markdown",
   "metadata": {
    "id": "hv_gHBQZtdNh"
   },
   "source": [
    "### Question 2 (15 points)\n",
    "\n",
    "Let's set up our network now. Add the following layers to the network:\n",
    "\n",
    "1) A `Conv2D` layer with `filters` = 32, `kernel_size` = (4, 4), `input_shape` = (32, 32, 3), and the \"relu\" activation function\n",
    "2) A `MaxPooling2D` layer `pool_size` = (2, 2)\n",
    "3) A `Conv2D` layer with `filters` = 32, `kernel_size` = (4, 4), and the \"relu\" activation function\n",
    "4) A `MaxPooling2D` layer `pool_size` = (2, 2)\n",
    "5)  A `Conv2D` layer with `filters` = 128, `kernel_size` = (4, 4), and the \"relu\" activation function"
   ]
  },
  {
   "cell_type": "code",
   "execution_count": 3,
   "metadata": {
    "id": "clgoNKAqrBbg"
   },
   "outputs": [],
   "source": [
    "from keras import models\n",
    "from keras import layers\n",
    "\n",
    "model = models.Sequential()\n",
    "model.add(layers.Conv2D(32, (4, 4), activation='relu', input_shape=(32, 32, 3)))\n",
    "model.add(layers.MaxPooling2D((2, 2)))\n",
    "model.add(layers.Conv2D(32, (4, 4), activation='relu'))\n",
    "model.add(layers.MaxPooling2D((2, 2)))\n",
    "model.add(layers.Conv2D(128, (4, 4), activation='relu'))"
   ]
  },
  {
   "cell_type": "markdown",
   "metadata": {
    "id": "dX49jlBMrBbi"
   },
   "source": [
    "Let's display the architecture of our convnet so far:"
   ]
  },
  {
   "cell_type": "code",
   "execution_count": 4,
   "metadata": {
    "id": "Yj44v1eZrBbj"
   },
   "outputs": [
    {
     "name": "stdout",
     "output_type": "stream",
     "text": [
      "Model: \"sequential\"\n",
      "_________________________________________________________________\n",
      " Layer (type)                Output Shape              Param #   \n",
      "=================================================================\n",
      " conv2d (Conv2D)             (None, 29, 29, 32)        1568      \n",
      "                                                                 \n",
      " max_pooling2d (MaxPooling2D  (None, 14, 14, 32)       0         \n",
      " )                                                               \n",
      "                                                                 \n",
      " conv2d_1 (Conv2D)           (None, 11, 11, 32)        16416     \n",
      "                                                                 \n",
      " max_pooling2d_1 (MaxPooling  (None, 5, 5, 32)         0         \n",
      " 2D)                                                             \n",
      "                                                                 \n",
      " conv2d_2 (Conv2D)           (None, 2, 2, 128)         65664     \n",
      "                                                                 \n",
      "=================================================================\n",
      "Total params: 83,648\n",
      "Trainable params: 83,648\n",
      "Non-trainable params: 0\n",
      "_________________________________________________________________\n"
     ]
    }
   ],
   "source": [
    "model.summary()"
   ]
  },
  {
   "cell_type": "markdown",
   "metadata": {
    "id": "ORQtvYiLrBbl"
   },
   "source": [
    "### Question 3 (15 points)\n",
    "\n",
    "Now, it's time to add the `flatten` and `Dense` layers.\n",
    "\n",
    "Add:\n",
    "1) The flatten layer\n",
    "2) A `Dense` layer with `units` = 128 and the \"relu\" activation function\n",
    "3) The final `Dense` layer with `units` = the number of classes in the dataset, and the \"softmax\" activation function"
   ]
  },
  {
   "cell_type": "code",
   "execution_count": 5,
   "metadata": {
    "id": "VpwJMBpPrBbm"
   },
   "outputs": [],
   "source": [
    "model.add(layers.Flatten())\n",
    "model.add(layers.Dense(128, activation='relu'))\n",
    "model.add(layers.Dense(10, activation='softmax'))"
   ]
  },
  {
   "cell_type": "markdown",
   "metadata": {
    "id": "EpxDsIU1rBbo"
   },
   "source": [
    "Now here's what our network \n",
    "looks like:"
   ]
  },
  {
   "cell_type": "code",
   "execution_count": 6,
   "metadata": {
    "id": "qLsmNLx7rBbp"
   },
   "outputs": [
    {
     "name": "stdout",
     "output_type": "stream",
     "text": [
      "Model: \"sequential\"\n",
      "_________________________________________________________________\n",
      " Layer (type)                Output Shape              Param #   \n",
      "=================================================================\n",
      " conv2d (Conv2D)             (None, 29, 29, 32)        1568      \n",
      "                                                                 \n",
      " max_pooling2d (MaxPooling2D  (None, 14, 14, 32)       0         \n",
      " )                                                               \n",
      "                                                                 \n",
      " conv2d_1 (Conv2D)           (None, 11, 11, 32)        16416     \n",
      "                                                                 \n",
      " max_pooling2d_1 (MaxPooling  (None, 5, 5, 32)         0         \n",
      " 2D)                                                             \n",
      "                                                                 \n",
      " conv2d_2 (Conv2D)           (None, 2, 2, 128)         65664     \n",
      "                                                                 \n",
      " flatten (Flatten)           (None, 512)               0         \n",
      "                                                                 \n",
      " dense (Dense)               (None, 128)               65664     \n",
      "                                                                 \n",
      " dense_1 (Dense)             (None, 10)                1290      \n",
      "                                                                 \n",
      "=================================================================\n",
      "Total params: 150,602\n",
      "Trainable params: 150,602\n",
      "Non-trainable params: 0\n",
      "_________________________________________________________________\n"
     ]
    }
   ],
   "source": [
    "model.summary()"
   ]
  },
  {
   "cell_type": "markdown",
   "metadata": {
    "id": "eUSKCUiGtdNk"
   },
   "source": [
    "### Question 4 (15 points)\n",
    "\n",
    "Let's compile the model and fit the data\n",
    "\n",
    "1) Complie the model with `optimizer` = 'adam', `loss` = 'categorical_crossentropy', and 'accuracy' as the metric\n",
    "2) Fit the model with `epochs` = 20, and `batch_size` = 64"
   ]
  },
  {
   "cell_type": "code",
   "execution_count": 7,
   "metadata": {
    "id": "bAwVWKxbrBbt"
   },
   "outputs": [
    {
     "name": "stdout",
     "output_type": "stream",
     "text": [
      "Epoch 1/20\n",
      "782/782 [==============================] - 15s 18ms/step - loss: 1.6030 - accuracy: 0.4108\n",
      "Epoch 2/20\n",
      "782/782 [==============================] - 14s 18ms/step - loss: 1.2665 - accuracy: 0.5455\n",
      "Epoch 3/20\n",
      "782/782 [==============================] - 14s 18ms/step - loss: 1.1182 - accuracy: 0.6044\n",
      "Epoch 4/20\n",
      "782/782 [==============================] - 14s 18ms/step - loss: 1.0244 - accuracy: 0.6383\n",
      "Epoch 5/20\n",
      "782/782 [==============================] - 14s 18ms/step - loss: 0.9540 - accuracy: 0.6646\n",
      "Epoch 6/20\n",
      "782/782 [==============================] - 14s 18ms/step - loss: 0.8932 - accuracy: 0.6875\n",
      "Epoch 7/20\n",
      "782/782 [==============================] - 15s 19ms/step - loss: 0.8369 - accuracy: 0.7056\n",
      "Epoch 8/20\n",
      "782/782 [==============================] - 14s 18ms/step - loss: 0.7913 - accuracy: 0.7213\n",
      "Epoch 9/20\n",
      "782/782 [==============================] - 14s 17ms/step - loss: 0.7501 - accuracy: 0.7356\n",
      "Epoch 10/20\n",
      "782/782 [==============================] - 14s 18ms/step - loss: 0.7101 - accuracy: 0.7483\n",
      "Epoch 11/20\n",
      "782/782 [==============================] - 14s 18ms/step - loss: 0.6743 - accuracy: 0.7648\n",
      "Epoch 12/20\n",
      "782/782 [==============================] - 15s 19ms/step - loss: 0.6390 - accuracy: 0.7764\n",
      "Epoch 13/20\n",
      "782/782 [==============================] - 14s 18ms/step - loss: 0.6029 - accuracy: 0.7881\n",
      "Epoch 14/20\n",
      "782/782 [==============================] - 14s 18ms/step - loss: 0.5694 - accuracy: 0.7990\n",
      "Epoch 15/20\n",
      "782/782 [==============================] - 14s 17ms/step - loss: 0.5360 - accuracy: 0.8114\n",
      "Epoch 16/20\n",
      "782/782 [==============================] - 14s 18ms/step - loss: 0.5066 - accuracy: 0.8228\n",
      "Epoch 17/20\n",
      "782/782 [==============================] - 14s 17ms/step - loss: 0.4759 - accuracy: 0.8310\n",
      "Epoch 18/20\n",
      "782/782 [==============================] - 14s 18ms/step - loss: 0.4547 - accuracy: 0.8383\n",
      "Epoch 19/20\n",
      "782/782 [==============================] - 14s 18ms/step - loss: 0.4253 - accuracy: 0.8495\n",
      "Epoch 20/20\n",
      "782/782 [==============================] - 16s 20ms/step - loss: 0.3907 - accuracy: 0.8603\n"
     ]
    },
    {
     "data": {
      "text/plain": [
       "<keras.callbacks.History at 0x1b011aa56d0>"
      ]
     },
     "execution_count": 7,
     "metadata": {},
     "output_type": "execute_result"
    }
   ],
   "source": [
    "model.compile(optimizer='adam', loss='categorical_crossentropy', metrics=['accuracy'])\n",
    "model.fit(train_images, train_labels, epochs=20, batch_size=64)"
   ]
  },
  {
   "cell_type": "markdown",
   "metadata": {
    "id": "DCscRyZotdNl"
   },
   "source": [
    "### Question 5 (15 points)\n",
    "\n",
    "Finally, let's evaluate our model using the model.evaluate() function"
   ]
  },
  {
   "cell_type": "code",
   "execution_count": 8,
   "metadata": {
    "id": "2GeuBpmsrBbw"
   },
   "outputs": [
    {
     "name": "stdout",
     "output_type": "stream",
     "text": [
      "313/313 [==============================] - 1s 3ms/step - loss: 1.1888 - accuracy: 0.6740\n"
     ]
    }
   ],
   "source": [
    "test_loss, test_acc = model.evaluate(test_images, test_labels)"
   ]
  },
  {
   "cell_type": "markdown",
   "metadata": {
    "id": "eNw-uBb8tdNl"
   },
   "source": [
    "### Question 5 (25 points)\n",
    "\n",
    "Identify the following points in the image below:\n",
    "\n",
    "1) Local Minima\n",
    "2) Global Minima\n",
    "3) Local Maxima\n",
    "4) Global Maxima\n",
    "\n",
    "![SDG.jpg](data:image/jpeg;base64,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)\n"
   ]
  },
  {
   "cell_type": "markdown",
   "metadata": {
    "id": "onaSANwgtdNl"
   },
   "source": [
    "Add your answers here: \n",
    "* Local Minima: B,D\n",
    "* Global Minima: D\n",
    "* Local Maxima: A,C\n",
    "* Global Maxima: A"
   ]
  },
  {
   "cell_type": "code",
   "execution_count": null,
   "metadata": {},
   "outputs": [],
   "source": []
  }
 ],
 "metadata": {
  "colab": {
   "provenance": []
  },
  "kernelspec": {
   "display_name": "Python 3 (ipykernel)",
   "language": "python",
   "name": "python3"
  },
  "language_info": {
   "codemirror_mode": {
    "name": "ipython",
    "version": 3
   },
   "file_extension": ".py",
   "mimetype": "text/x-python",
   "name": "python",
   "nbconvert_exporter": "python",
   "pygments_lexer": "ipython3",
   "version": "3.9.12"
  }
 },
 "nbformat": 4,
 "nbformat_minor": 4
}
